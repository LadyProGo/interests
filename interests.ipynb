{
 "cells": [
  {
   "cell_type": "code",
   "execution_count": 17,
   "metadata": {},
   "outputs": [],
   "source": [
    "# create a function that calculates the interest of our savings\n",
    "def interest():\n",
    "    while True:\n",
    "        try:\n",
    "            start_amount = float(input(\"How much would you like to invest? \"))\n",
    "            period = float(input(\"For how long (in years)? \"))\n",
    "            rate = float(input(\"What interest rate would you like to see (as a decimal)?\\n Example: 10% --> 0.10\\n\"))\n",
    "        except ValueError:\n",
    "            # This error will occur if the user types something other than numbers\n",
    "            print(\"You need to enter numbers. Please try again.\")\n",
    "        else:               \n",
    "            if start_amount < 0 or period < 0 or rate < 0:\n",
    "                print(\"You have entered one or more negative values. Please enter only positive values.\")\n",
    "            elif rate > 1:\n",
    "                print(\"You have entered an interest rate greater than 100%. Please enter an interest rate as a decimal value.\\n Example: 10% --> 0.10\\n\")\n",
    "            else:\n",
    "                total = start_amount * (1 + rate) ** period\n",
    "                print(\"The total amount of money you will have after depositing {:.2f}€ at the end of {} years will be {:.2f}€.\"\n",
    "                      .format(start_amount, period, total))\n",
    "                break"
   ]
  },
  {
   "cell_type": "code",
   "execution_count": 18,
   "metadata": {},
   "outputs": [
    {
     "name": "stdout",
     "output_type": "stream",
     "text": [
      "The total amount of money you will have after depositing 2000.00€ at the end of 10.0 years will be 5187.48€.\n"
     ]
    }
   ],
   "source": [
    "interest()"
   ]
  }
 ],
 "metadata": {
  "kernelspec": {
   "display_name": "base",
   "language": "python",
   "name": "python3"
  },
  "language_info": {
   "codemirror_mode": {
    "name": "ipython",
    "version": 3
   },
   "file_extension": ".py",
   "mimetype": "text/x-python",
   "name": "python",
   "nbconvert_exporter": "python",
   "pygments_lexer": "ipython3",
   "version": "3.9.12"
  },
  "orig_nbformat": 4,
  "vscode": {
   "interpreter": {
    "hash": "34b9de834f38ee9a6ce86ceda3248b689782f468cb0d176dfe7bd8188190e0ac"
   }
  }
 },
 "nbformat": 4,
 "nbformat_minor": 2
}
